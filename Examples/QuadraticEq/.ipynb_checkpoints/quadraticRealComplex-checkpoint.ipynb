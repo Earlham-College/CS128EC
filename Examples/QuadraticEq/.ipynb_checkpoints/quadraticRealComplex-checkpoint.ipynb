{
 "cells": [
  {
   "cell_type": "markdown",
   "id": "4ab036f0",
   "metadata": {},
   "source": [
    "# Real"
   ]
  },
  {
   "cell_type": "code",
   "execution_count": 4,
   "id": "ca37221b",
   "metadata": {},
   "outputs": [],
   "source": [
    "import math\n",
    "a = 1\n",
    "b = 2\n",
    "c = 1"
   ]
  },
  {
   "cell_type": "markdown",
   "id": "1ab14db6",
   "metadata": {},
   "source": [
    "## calculate the discriminant and its square root\n"
   ]
  },
  {
   "cell_type": "code",
   "execution_count": 5,
   "id": "da9667ee",
   "metadata": {},
   "outputs": [],
   "source": [
    "delta = (b**2) - (4*a*c)"
   ]
  },
  {
   "cell_type": "code",
   "execution_count": 6,
   "id": "a5cf30df",
   "metadata": {},
   "outputs": [
    {
     "name": "stdout",
     "output_type": "stream",
     "text": [
      "The solution are -1.0 and -1.0\n"
     ]
    }
   ],
   "source": [
    "# find two solutions\n",
    "if delta < 0:\n",
    "    print(\"The solution is not in the real domain\")\n",
    "else:\n",
    "    sqrtdelta = math.sqrt(delta)\n",
    "    sol1 = (-b-sqrtdelta)/(2*a)\n",
    "    sol2 = (-b+sqrtdelta)/(2*a)\n",
    "    print('The solution are {0} and {1}'.format(sol1,sol2))"
   ]
  },
  {
   "cell_type": "code",
   "execution_count": null,
   "id": "789bcffb",
   "metadata": {},
   "outputs": [],
   "source": []
  },
  {
   "cell_type": "code",
   "execution_count": null,
   "id": "f020236a",
   "metadata": {},
   "outputs": [],
   "source": []
  },
  {
   "cell_type": "markdown",
   "id": "d7962ce5",
   "metadata": {},
   "source": [
    "# Complex"
   ]
  },
  {
   "cell_type": "code",
   "execution_count": null,
   "id": "dd2621ed",
   "metadata": {},
   "outputs": [],
   "source": [
    "import cmath\n",
    "\n",
    "a = 1\n",
    "b = 1\n",
    "c = 4\n",
    "\n",
    "# calculate the discriminant\n",
    "d = (b**2) - (4*a*c)\n",
    "\n",
    "# find two solutions\n",
    "sol1 = (-b-cmath.sqrt(d))/(2*a)\n",
    "sol2 = (-b+cmath.sqrt(d))/(2*a)\n",
    "\n",
    "print('The solution are {0} and {1}'.format(sol1,sol2))"
   ]
  },
  {
   "cell_type": "code",
   "execution_count": null,
   "id": "38985296",
   "metadata": {},
   "outputs": [],
   "source": []
  }
 ],
 "metadata": {
  "kernelspec": {
   "display_name": "Python 3.9",
   "language": "python",
   "name": "py39"
  },
  "language_info": {
   "codemirror_mode": {
    "name": "ipython",
    "version": 3
   },
   "file_extension": ".py",
   "mimetype": "text/x-python",
   "name": "python",
   "nbconvert_exporter": "python",
   "pygments_lexer": "ipython3",
   "version": "3.9.1"
  }
 },
 "nbformat": 4,
 "nbformat_minor": 5
}
