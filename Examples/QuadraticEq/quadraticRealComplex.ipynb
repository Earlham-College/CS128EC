{
 "cells": [
  {
   "cell_type": "markdown",
   "id": "8c15c67f",
   "metadata": {},
   "source": [
    "# Real"
   ]
  },
  {
   "cell_type": "code",
   "execution_count": 6,
   "id": "0c01c245",
   "metadata": {},
   "outputs": [],
   "source": [
    "import math\n",
    "a = 0\n",
    "b = 2\n",
    "c = 1"
   ]
  },
  {
   "cell_type": "markdown",
   "id": "6fcf50bc",
   "metadata": {},
   "source": [
    "## calculate the discriminant and its square root\n"
   ]
  },
  {
   "cell_type": "code",
   "execution_count": 7,
   "id": "52d18d20",
   "metadata": {},
   "outputs": [],
   "source": [
    "delta = (b**2) - (4*a*c)"
   ]
  },
  {
   "cell_type": "code",
   "execution_count": 9,
   "id": "e066f948",
   "metadata": {},
   "outputs": [
    {
     "name": "stdout",
     "output_type": "stream",
     "text": [
      "Since a = 0 then the eq. has the form bx+c=0\n"
     ]
    }
   ],
   "source": [
    "# find two solutions\n",
    "if delta < 0:\n",
    "    print(\"The solution is not in the real domain\")\n",
    "else:\n",
    "    if a==0:\n",
    "        print(\"Since a = 0 then the eq. has the form bx+c=0\")\n",
    "    else:   \n",
    "        sqrtdelta = math.sqrt(delta)\n",
    "        sol1 = (-b-sqrtdelta)/(2*a)\n",
    "        sol2 = (-b+sqrtdelta)/(2*a)\n",
    "        print('The solution are {0} and {1}'.format(sol1,sol2))"
   ]
  },
  {
   "cell_type": "code",
   "execution_count": null,
   "id": "24ca048d",
   "metadata": {},
   "outputs": [],
   "source": []
  },
  {
   "cell_type": "code",
   "execution_count": null,
   "id": "5a0bf7a8",
   "metadata": {},
   "outputs": [],
   "source": []
  },
  {
   "cell_type": "markdown",
   "id": "a7a8e05f",
   "metadata": {},
   "source": [
    "# Complex"
   ]
  },
  {
   "cell_type": "code",
   "execution_count": null,
   "id": "89dc4956",
   "metadata": {},
   "outputs": [],
   "source": [
    "import cmath\n",
    "\n",
    "a = 1\n",
    "b = 1\n",
    "c = 4\n",
    "\n",
    "# calculate the discriminant\n",
    "d = (b**2) - (4*a*c)\n",
    "\n",
    "# find two solutions\n",
    "sol1 = (-b-cmath.sqrt(d))/(2*a)\n",
    "sol2 = (-b+cmath.sqrt(d))/(2*a)\n",
    "\n",
    "print('The solution are {0} and {1}'.format(sol1,sol2))"
   ]
  },
  {
   "cell_type": "code",
   "execution_count": null,
   "id": "cac01ee3",
   "metadata": {},
   "outputs": [],
   "source": []
  }
 ],
 "metadata": {
  "kernelspec": {
   "display_name": "Python 3.9",
   "language": "python",
   "name": "py39"
  },
  "language_info": {
   "codemirror_mode": {
    "name": "ipython",
    "version": 3
   },
   "file_extension": ".py",
   "mimetype": "text/x-python",
   "name": "python",
   "nbconvert_exporter": "python",
   "pygments_lexer": "ipython3",
   "version": "3.9.1"
  }
 },
 "nbformat": 4,
 "nbformat_minor": 5
}
