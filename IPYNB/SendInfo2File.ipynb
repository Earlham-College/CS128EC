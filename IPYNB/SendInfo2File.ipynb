{
 "cells": [
  {
   "cell_type": "markdown",
   "id": "b5046600",
   "metadata": {},
   "source": [
    "This is the line to call open with two string arguments."
   ]
  },
  {
   "cell_type": "code",
   "execution_count": 53,
   "id": "f08019f1",
   "metadata": {},
   "outputs": [],
   "source": [
    "def operation_to_file(a,b,fileName):\n",
    "    FName = open(fileName,\"w\")\n",
    "    print(a+b, file=FName)\n",
    "    FName.seek(0)\n",
    "    print(a/b, file=FName)    \n",
    "    FName.close()    "
   ]
  },
  {
   "cell_type": "code",
   "execution_count": 54,
   "id": "a429e063",
   "metadata": {},
   "outputs": [],
   "source": [
    "operation_to_file(1,2,\"myFile.txt\")"
   ]
  },
  {
   "cell_type": "code",
   "execution_count": null,
   "id": "8c6a67be",
   "metadata": {},
   "outputs": [],
   "source": []
  },
  {
   "cell_type": "code",
   "execution_count": null,
   "id": "9ea5cfe0",
   "metadata": {},
   "outputs": [],
   "source": []
  },
  {
   "cell_type": "code",
   "execution_count": null,
   "id": "3571c410",
   "metadata": {},
   "outputs": [],
   "source": []
  },
  {
   "cell_type": "code",
   "execution_count": null,
   "id": "faf6c006",
   "metadata": {},
   "outputs": [],
   "source": []
  },
  {
   "cell_type": "code",
   "execution_count": 20,
   "id": "aa567a30",
   "metadata": {},
   "outputs": [
    {
     "name": "stdout",
     "output_type": "stream",
     "text": [
      "6.000044 %3.5f\n"
     ]
    }
   ],
   "source": [
    "def operation_to_file(a,b,fileName):\n",
    "    FName = open(fileName,\"w\")\n",
    "    print(a+b, file=FName)\n",
    "    print(a-b, file=FName)    \n",
    "    FName.seek(5)\n",
    "    print(a/b, file=FName)    \n",
    "    FName.close()    "
   ]
  },
  {
   "cell_type": "code",
   "execution_count": null,
   "id": "352478c3",
   "metadata": {},
   "outputs": [],
   "source": []
  }
 ],
 "metadata": {
  "kernelspec": {
   "display_name": "Python 3.9",
   "language": "python",
   "name": "py39"
  },
  "language_info": {
   "codemirror_mode": {
    "name": "ipython",
    "version": 3
   },
   "file_extension": ".py",
   "mimetype": "text/x-python",
   "name": "python",
   "nbconvert_exporter": "python",
   "pygments_lexer": "ipython3",
   "version": "3.9.1"
  }
 },
 "nbformat": 4,
 "nbformat_minor": 5
}
