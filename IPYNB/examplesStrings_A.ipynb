{
 "cells": [
  {
   "cell_type": "code",
   "execution_count": null,
   "id": "f3ae457f",
   "metadata": {},
   "outputs": [],
   "source": [
    "\"cat\" < \"catch\""
   ]
  },
  {
   "cell_type": "code",
   "execution_count": null,
   "id": "30446f71",
   "metadata": {},
   "outputs": [],
   "source": [
    "st1=\"a\"\n",
    "st2=\"\"\n",
    "if st1==st2:\n",
    "    print (\"true\")\n",
    "else:\n",
    "    print (\"false\")"
   ]
  },
  {
   "cell_type": "markdown",
   "id": "d2970329",
   "metadata": {},
   "source": [
    "2) Check if a message starts with \"Python\" word"
   ]
  },
  {
   "cell_type": "code",
   "execution_count": null,
   "id": "2bc75085",
   "metadata": {},
   "outputs": [],
   "source": [
    "def check(message):\n",
    "    if message[:6]==\"Python\":\n",
    "        return True\n",
    "    else:\n",
    "        return False\n",
    "check(\"Python is\")"
   ]
  },
  {
   "cell_type": "code",
   "execution_count": null,
   "id": "0c001917",
   "metadata": {},
   "outputs": [],
   "source": [
    "def hasPython(string):\n",
    "    if string.startswith(\"Python\"):\n",
    "        return True\n",
    "    else:\n",
    "        return False\n",
    "    \n",
    "hasPython(\"Python is a programming language\")"
   ]
  },
  {
   "cell_type": "code",
   "execution_count": null,
   "id": "c4541452",
   "metadata": {},
   "outputs": [],
   "source": [
    "message = \"Python is a coding language.\"\n",
    "split_text=message.split()\n",
    "if split_text[0]==\"Python\":\n",
    "    print (\"True\")\n",
    "else:\n",
    "    print (\"False\")"
   ]
  },
  {
   "cell_type": "code",
   "execution_count": 1,
   "id": "be8a07b3",
   "metadata": {},
   "outputs": [],
   "source": [
    "my_file = open(\"output.txt\", \"r\")\n",
    "line_list = my_file.readlines()"
   ]
  },
  {
   "cell_type": "code",
   "execution_count": 2,
   "id": "583eae93",
   "metadata": {},
   "outputs": [
    {
     "name": "stdout",
     "output_type": "stream",
     "text": [
      "['hola\\n', 'mundo\\n']\n"
     ]
    }
   ],
   "source": [
    "print(line_list)\n",
    "my_file.close()"
   ]
  },
  {
   "cell_type": "code",
   "execution_count": null,
   "id": "0a2485f5",
   "metadata": {},
   "outputs": [],
   "source": []
  }
 ],
 "metadata": {
  "kernelspec": {
   "display_name": "Python 3.9",
   "language": "python",
   "name": "py39"
  },
  "language_info": {
   "codemirror_mode": {
    "name": "ipython",
    "version": 3
   },
   "file_extension": ".py",
   "mimetype": "text/x-python",
   "name": "python",
   "nbconvert_exporter": "python",
   "pygments_lexer": "ipython3",
   "version": "3.9.1"
  }
 },
 "nbformat": 4,
 "nbformat_minor": 5
}
