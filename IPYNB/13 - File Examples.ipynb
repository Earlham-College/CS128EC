{
 "cells": [
  {
   "cell_type": "markdown",
   "metadata": {},
   "source": [
    "## File Examples"
   ]
  },
  {
   "cell_type": "markdown",
   "metadata": {},
   "source": [
    "Write the contents of the `stuff` array to a file named `stuff.txt`."
   ]
  },
  {
   "cell_type": "code",
   "execution_count": null,
   "metadata": {},
   "outputs": [],
   "source": [
    "stuff = [\"Hello! This is my text.\", \"0123456789\", \"Goodbye\"]\n",
    "\n",
    "myOutputFile = open(\"stuff.txt\", \"w\")\n",
    "for next_element in stuff:\n",
    "    myOutputFile.write(next_element + \"\\n\")\n",
    "myOutputFile.close()"
   ]
  },
  {
   "cell_type": "markdown",
   "metadata": {},
   "source": [
    "Read in each line from `stuff.txt` and print out that line."
   ]
  },
  {
   "cell_type": "code",
   "execution_count": 7,
   "metadata": {},
   "outputs": [
    {
     "data": {
      "text/plain": [
       "'Hello! This is my text.\\n0123456789\\nGoodbye\\n'"
      ]
     },
     "execution_count": 7,
     "metadata": {},
     "output_type": "execute_result"
    }
   ],
   "source": [
    "file=open(\"stuff.txt\",\"r\")\n",
    "file.read()"
   ]
  },
  {
   "cell_type": "code",
   "execution_count": 9,
   "metadata": {},
   "outputs": [],
   "source": [
    "file.close()"
   ]
  },
  {
   "cell_type": "markdown",
   "metadata": {},
   "source": [
    "Write a function `roster` that takes a file name as a parameter. It should read each line from a file of student records and print out the students' names on a single line, separated by commas.\n",
    "\n",
    "To test your code, you should make a new text file that contains the example below. Name it \"roster.txt\"\n",
    "\n",
    "Lines from the file will be in the format `name,grade1,grade2,...`, such as:\n",
    "\n",
    "```\n",
    "Sofia,93,72,100,68\n",
    "Dave,46,100,100,84\n",
    "Doug,100,100,100,100\n",
    "Charlie,98,0,100,100```\n",
    "\n",
    "The output for this should look like:\n",
    "\n",
    "Sofia,Dave,Doug,Charlie"
   ]
  },
  {
   "cell_type": "code",
   "execution_count": null,
   "metadata": {},
   "outputs": [],
   "source": [
    "def roster(filename):\n",
    "    output_string = \"\"\n",
    "    roster_file = open(filename, 'r')\n",
    "    for next_line in roster_file:\n",
    "        print(\"next_line is \", next_line)\n",
    "        split_line = next_line.split(\",\")\n",
    "        print(\"split_line is \", split_line)\n",
    "        name = split_line[0]\n",
    "        output_string = output_string + name + \",\"\n",
    "    return output_string[:-1]\n",
    "    \n",
    "roster(\"roster.txt\")"
   ]
  },
  {
   "cell_type": "markdown",
   "metadata": {},
   "source": [
    "Write a function called `grade_summary` that takes a file name as a parameter. It should read each line from a file of student records and summarize each student's record using an average. In other words, it should print the student's name followed by a colon, a space, and the average of all grades on that line. Example: `Sofia: 83.25`"
   ]
  },
  {
   "cell_type": "code",
   "execution_count": null,
   "metadata": {},
   "outputs": [],
   "source": [
    "def grade_summary(filename):\n",
    "    # Your code here\n",
    "    infile = open(filename, \"r\")\n",
    "    for line in infile:\n",
    "        lst = line.split(\",\")\n",
    "        name = lst[0]\n",
    "        print(name, end=\"\")\n",
    "        print(\": \", end=\"\")\n",
    "        grades = lst[1:]\n",
    "        sm = 0\n",
    "            for grade in grades:\n",
    "                sm = sm + int(grade)\n",
    "            print(sm / len(grades))\n",
    "    infile.close()\n",
    "\n",
    "grade_summary(\"roster.txt\")"
   ]
  },
  {
   "cell_type": "markdown",
   "metadata": {},
   "source": [
    "<!--\n",
    "def grade_summary(filename):\n",
    "infile = open(filename, \"r\")\n",
    "for line in infile:\n",
    "lst = line.split(\",\")\n",
    "name = lst[0]\n",
    "print(name, end=\"\")\n",
    "print(\": \", end=\"\")\n",
    "grades = lst[1:]\n",
    "sm = 0\n",
    "for grade in grades:\n",
    "sm = sm + int(grade)\n",
    "print(sm / len(grades))\n",
    "infile.close()\n",
    "grade_summary(\"roster.txt\")\n",
    "-->"
   ]
  },
  {
   "cell_type": "code",
   "execution_count": null,
   "metadata": {},
   "outputs": [],
   "source": []
  }
 ],
 "metadata": {
  "kernelspec": {
   "display_name": "Python 3",
   "language": "python",
   "name": "python3"
  },
  "language_info": {
   "codemirror_mode": {
    "name": "ipython",
    "version": 3
   },
   "file_extension": ".py",
   "mimetype": "text/x-python",
   "name": "python",
   "nbconvert_exporter": "python",
   "pygments_lexer": "ipython3",
   "version": "3.7.4"
  }
 },
 "nbformat": 4,
 "nbformat_minor": 2
}
