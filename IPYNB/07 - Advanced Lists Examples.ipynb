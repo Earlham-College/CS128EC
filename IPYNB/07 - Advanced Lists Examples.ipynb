{
 "cells": [
  {
   "cell_type": "markdown",
   "metadata": {},
   "source": [
    "## Advanced Lists"
   ]
  },
  {
   "cell_type": "markdown",
   "metadata": {},
   "source": [
    "Write a function `last` that takes a list as a parameter and returns the last item from that list."
   ]
  },
  {
   "cell_type": "code",
   "execution_count": 6,
   "metadata": {
    "nbgrader": {
     "grade": false,
     "grade_id": "cell-96bdf3e54372977a",
     "locked": false,
     "schema_version": 3,
     "solution": true,
     "task": false
    }
   },
   "outputs": [
    {
     "name": "stdout",
     "output_type": "stream",
     "text": [
      "4\n",
      "-5\n"
     ]
    }
   ],
   "source": []
  },
  {
   "cell_type": "markdown",
   "metadata": {},
   "source": [
    "Write a function `half_list` that takes a list as a parameter and keeps the first half of the items from the list. For odd-numbered lists, it should round down when calculating half the length."
   ]
  },
  {
   "cell_type": "code",
   "execution_count": null,
   "metadata": {
    "nbgrader": {
     "grade": false,
     "grade_id": "cell-775d15fb18f7b0d7",
     "locked": false,
     "schema_version": 3,
     "solution": true,
     "task": false
    }
   },
   "outputs": [],
   "source": []
  },
  {
   "cell_type": "markdown",
   "metadata": {},
   "source": [
    "Write a function `add_one_each` that takes a list of integers as a parameter and returns a new list where each element has one added to it."
   ]
  },
  {
   "cell_type": "code",
   "execution_count": null,
   "metadata": {
    "nbgrader": {
     "grade": false,
     "grade_id": "cell-8c357c1596281971",
     "locked": false,
     "schema_version": 3,
     "solution": true,
     "task": false
    }
   },
   "outputs": [],
   "source": []
  },
  {
   "cell_type": "markdown",
   "metadata": {},
   "source": [
    "Write a function `keep_positive` that takes a list of integers as a parameter and returns a list containing only the positive integers from the original list."
   ]
  },
  {
   "cell_type": "code",
   "execution_count": null,
   "metadata": {
    "nbgrader": {
     "grade": false,
     "grade_id": "cell-ab0718d9ccad2999",
     "locked": false,
     "schema_version": 3,
     "solution": true,
     "task": false
    }
   },
   "outputs": [],
   "source": []
  },
  {
   "cell_type": "markdown",
   "metadata": {},
   "source": [
    "Write a function `product_of_list` that takes a list as a parameter and returns the result of multiplying all entries in the list together."
   ]
  },
  {
   "cell_type": "code",
   "execution_count": null,
   "metadata": {
    "nbgrader": {
     "grade": false,
     "grade_id": "cell-90a9ca74130bc1ee",
     "locked": false,
     "schema_version": 3,
     "solution": true,
     "task": false
    }
   },
   "outputs": [],
   "source": []
  },
  {
   "cell_type": "markdown",
   "metadata": {},
   "source": [
    "## Tests"
   ]
  },
  {
   "cell_type": "code",
   "execution_count": null,
   "metadata": {
    "nbgrader": {
     "grade": true,
     "grade_id": "cell-da0cf70eca0c5e09",
     "locked": true,
     "points": 1,
     "schema_version": 3,
     "solution": false,
     "task": false
    }
   },
   "outputs": [],
   "source": [
    "#tests for last\n",
    "from nose.tools import assert_equal\n",
    "\n",
    "# Ignore this cell\n",
    "# DO NOT DELETE THIS CELL\n",
    "### BEGIN TEST\n",
    "\n",
    "assert_equal(last([\"\", \"\", \"\"]), \"\")\n",
    "assert_equal(last([\"a\", \"aa\", \"aaa\"]), \"aaa\")\n",
    "assert_equal(last([\"Sofia\", \"Charlie\", \"Dave\", \"Doug\"]), \"Doug\")\n",
    "assert_equal(last([\"aaa\", \"aa\", \"a\"]), \"a\")"
   ]
  },
  {
   "cell_type": "code",
   "execution_count": null,
   "metadata": {
    "nbgrader": {
     "grade": true,
     "grade_id": "cell-868dcf93b928f10d",
     "locked": true,
     "points": 1,
     "schema_version": 3,
     "solution": false,
     "task": false
    }
   },
   "outputs": [],
   "source": [
    "#test for halfList\n",
    "\n",
    "### BEGIN TEST\n",
    "l1 = [1,2,3,4]\n",
    "expected = [1,2]\n",
    "assert_equal(half_list(l1), expected)\n",
    "### END TEST"
   ]
  },
  {
   "cell_type": "code",
   "execution_count": null,
   "metadata": {
    "nbgrader": {
     "grade": true,
     "grade_id": "cell-c9368ae37dc4250a",
     "locked": true,
     "points": 1,
     "schema_version": 3,
     "solution": false,
     "task": false
    }
   },
   "outputs": [],
   "source": [
    "#test for halfList\n",
    "\n",
    "### BEGIN TEST\n",
    "l2 = [1,2,3]\n",
    "expected = [1]\n",
    "assert_equal(half_list(l2), expected)\n",
    "### END TEST"
   ]
  },
  {
   "cell_type": "code",
   "execution_count": null,
   "metadata": {
    "nbgrader": {
     "grade": true,
     "grade_id": "cell-ec5bfaa7f7855d46",
     "locked": true,
     "points": 1,
     "schema_version": 3,
     "solution": false,
     "task": false
    }
   },
   "outputs": [],
   "source": [
    "#test for halfList\n",
    "\n",
    "### BEGIN TEST\n",
    "l3 = []\n",
    "expected = []\n",
    "assert_equal(half_list(l3), expected)\n",
    "### END TEST"
   ]
  },
  {
   "cell_type": "code",
   "execution_count": null,
   "metadata": {
    "nbgrader": {
     "grade": true,
     "grade_id": "cell-4bd007c62b9ce239",
     "locked": true,
     "points": 1,
     "schema_version": 3,
     "solution": false,
     "task": false
    }
   },
   "outputs": [],
   "source": [
    "#tests for addOneEach\n",
    "\n",
    "### BEGIN TEST\n",
    "l1 = [1,2,3,4]\n",
    "expected = [2,3,4,5]\n",
    "assert_equal(add_one_each(l1), expected)\n",
    "### END TEST"
   ]
  },
  {
   "cell_type": "code",
   "execution_count": null,
   "metadata": {
    "nbgrader": {
     "grade": true,
     "grade_id": "cell-442d504553291dc9",
     "locked": true,
     "points": 1,
     "schema_version": 3,
     "solution": false,
     "task": false
    }
   },
   "outputs": [],
   "source": [
    "#tests for addOneEach\n",
    "\n",
    "### BEGIN TEST\n",
    "l2 = [10, 20, 30]\n",
    "expected = [11, 21, 31]\n",
    "assert_equal(add_one_each(l2), expected)\n",
    "### END TEST"
   ]
  },
  {
   "cell_type": "code",
   "execution_count": null,
   "metadata": {
    "nbgrader": {
     "grade": true,
     "grade_id": "cell-e35f7a6503932a12",
     "locked": true,
     "points": 1,
     "schema_version": 3,
     "solution": false,
     "task": false
    }
   },
   "outputs": [],
   "source": [
    "#tests for addOneEach\n",
    "\n",
    "### BEGIN TEST\n",
    "l3 = []\n",
    "expected = []\n",
    "assert_equal(add_one_each(l3), expected)\n",
    "### END TEST"
   ]
  },
  {
   "cell_type": "code",
   "execution_count": null,
   "metadata": {
    "nbgrader": {
     "grade": true,
     "grade_id": "cell-8272198bc7f9df7e",
     "locked": true,
     "points": 1,
     "schema_version": 3,
     "solution": false,
     "task": false
    }
   },
   "outputs": [],
   "source": [
    "#tests for keepPositive\n",
    "\n",
    "### BEGIN TEST\n",
    "l1 = [-2, 3, 0, 5]\n",
    "expected = [3,5]\n",
    "assert_equal(keep_positive(l1), expected)\n",
    "### END TEST"
   ]
  },
  {
   "cell_type": "code",
   "execution_count": null,
   "metadata": {
    "nbgrader": {
     "grade": true,
     "grade_id": "cell-6ab04d4e69f8ec39",
     "locked": true,
     "points": 1,
     "schema_version": 3,
     "solution": false,
     "task": false
    }
   },
   "outputs": [],
   "source": [
    "#tests for keepPositive\n",
    "\n",
    "### BEGIN TEST\n",
    "l2 = [1,2,3]\n",
    "expected = [1,2,3]\n",
    "assert_equal(keep_positive(l2), expected)\n",
    "### END TEST"
   ]
  },
  {
   "cell_type": "code",
   "execution_count": null,
   "metadata": {
    "nbgrader": {
     "grade": true,
     "grade_id": "cell-17651223f81c19d2",
     "locked": true,
     "points": 1,
     "schema_version": 3,
     "solution": false,
     "task": false
    }
   },
   "outputs": [],
   "source": [
    "#tests for keepPositive\n",
    "\n",
    "### BEGIN TEST\n",
    "l3 = []\n",
    "expected = []\n",
    "assert_equal(keep_positive(l3), expected)\n",
    "### END TEST"
   ]
  },
  {
   "cell_type": "code",
   "execution_count": null,
   "metadata": {
    "nbgrader": {
     "grade": true,
     "grade_id": "cell-b61c97ec9d59e4aa",
     "locked": true,
     "points": 1,
     "schema_version": 3,
     "solution": false,
     "task": false
    }
   },
   "outputs": [],
   "source": [
    "#tests for product_of_list\n",
    "\n",
    "### BEGIN TEST\n",
    "assert_equal(product_of_list([1]), 1)\n",
    "assert_equal(product_of_list([1,1,1]), 1)\n",
    "assert_equal(product_of_list([2,3,4,5,0]), 0)\n",
    "assert_equal(product_of_list([2,3,4,5]), 120)"
   ]
  }
 ],
 "metadata": {
  "kernelspec": {
   "display_name": "Python 3",
   "language": "python",
   "name": "python3"
  },
  "language_info": {
   "codemirror_mode": {
    "name": "ipython",
    "version": 3
   },
   "file_extension": ".py",
   "mimetype": "text/x-python",
   "name": "python",
   "nbconvert_exporter": "python",
   "pygments_lexer": "ipython3",
   "version": "3.7.4"
  }
 },
 "nbformat": 4,
 "nbformat_minor": 2
}
