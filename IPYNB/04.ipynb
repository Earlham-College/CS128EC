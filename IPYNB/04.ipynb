{
 "cells": [
  {
   "cell_type": "markdown",
   "id": "b924fafd",
   "metadata": {},
   "source": [
    "This is my first NB on Jupyter"
   ]
  },
  {
   "cell_type": "code",
   "execution_count": 6,
   "id": "200228c2",
   "metadata": {},
   "outputs": [],
   "source": [
    "def calc_1(a, b):\n",
    "   result = a - 2*b\n",
    "   return(result)"
   ]
  },
  {
   "cell_type": "code",
   "execution_count": 7,
   "id": "78fd63f0",
   "metadata": {},
   "outputs": [
    {
     "data": {
      "text/plain": [
       "-5"
      ]
     },
     "execution_count": 7,
     "metadata": {},
     "output_type": "execute_result"
    }
   ],
   "source": [
    "calc_1(1,3)"
   ]
  },
  {
   "cell_type": "code",
   "execution_count": null,
   "id": "337f304f",
   "metadata": {},
   "outputs": [],
   "source": []
  },
  {
   "cell_type": "code",
   "execution_count": null,
   "id": "e17c7a72",
   "metadata": {},
   "outputs": [],
   "source": []
  },
  {
   "cell_type": "code",
   "execution_count": null,
   "id": "2a82996c",
   "metadata": {},
   "outputs": [],
   "source": []
  },
  {
   "cell_type": "code",
   "execution_count": 4,
   "id": "dd5d70ee",
   "metadata": {},
   "outputs": [
    {
     "data": {
      "text/plain": [
       "1.0"
      ]
     },
     "execution_count": 4,
     "metadata": {},
     "output_type": "execute_result"
    }
   ],
   "source": [
    "def meters_to_km(num_meters):\n",
    "    num_km = num_meters/1000\n",
    "    return num_km\n",
    "\n",
    "meters_to_km(1000)"
   ]
  },
  {
   "cell_type": "code",
   "execution_count": 5,
   "id": "856cdded",
   "metadata": {},
   "outputs": [
    {
     "data": {
      "text/plain": [
       "3.7878787878787876"
      ]
     },
     "execution_count": 5,
     "metadata": {},
     "output_type": "execute_result"
    }
   ],
   "source": [
    "def cups_to_gallons(cups):\n",
    "    gallons = cups/16\n",
    "    return gallons\n",
    "\n",
    "def gallons_to_liters(gallons):\n",
    "    liters = gallons/0.264\n",
    "    return liters\n",
    "\n",
    "def cups_to_liters(cups):\n",
    "    return gallons_to_liters(cups_to_gallons(cups))\n",
    "\n",
    "cups_to_liters(16)"
   ]
  },
  {
   "cell_type": "code",
   "execution_count": null,
   "id": "44f9ab58",
   "metadata": {},
   "outputs": [],
   "source": []
  }
 ],
 "metadata": {
  "kernelspec": {
   "display_name": "Python 3.9",
   "language": "python",
   "name": "py39"
  },
  "language_info": {
   "codemirror_mode": {
    "name": "ipython",
    "version": 3
   },
   "file_extension": ".py",
   "mimetype": "text/x-python",
   "name": "python",
   "nbconvert_exporter": "python",
   "pygments_lexer": "ipython3",
   "version": "3.9.1"
  }
 },
 "nbformat": 4,
 "nbformat_minor": 5
}
