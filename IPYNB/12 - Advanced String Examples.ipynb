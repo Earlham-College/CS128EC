{
 "cells": [
  {
   "cell_type": "markdown",
   "metadata": {},
   "source": [
    "## Advanced String Examples"
   ]
  },
  {
   "cell_type": "markdown",
   "metadata": {},
   "source": [
    "Write a function `first_word` that takes a string `s` as a parameter and returns only the first word from `s` with no spaces before or after."
   ]
  },
  {
   "cell_type": "code",
   "execution_count": null,
   "metadata": {
    "nbgrader": {
     "grade": false,
     "grade_id": "cell-65d8181611b34ec0",
     "locked": false,
     "schema_version": 3,
     "solution": true,
     "task": false
    }
   },
   "outputs": [],
   "source": [
    "s.replace()"
   ]
  },
  {
   "cell_type": "markdown",
   "metadata": {},
   "source": [
    "Write a function `get_letters` that takes a string `s` as a parameter and returns a new string containing only the alphabetical characters from `s`."
   ]
  },
  {
   "cell_type": "code",
   "execution_count": null,
   "metadata": {
    "nbgrader": {
     "grade": false,
     "grade_id": "cell-5573355e89edc511",
     "locked": false,
     "schema_version": 3,
     "solution": true,
     "task": false
    }
   },
   "outputs": [],
   "source": []
  },
  {
   "cell_type": "markdown",
   "metadata": {},
   "source": [
    "Write a function `reformat_date` that changes a string with a date formatted as `09/10/2018` to a string with the date formatted as `10.09.2018`."
   ]
  },
  {
   "cell_type": "code",
   "execution_count": null,
   "metadata": {
    "nbgrader": {
     "grade": false,
     "grade_id": "cell-3ca508cc9160f77b",
     "locked": false,
     "schema_version": 3,
     "solution": true,
     "task": false
    }
   },
   "outputs": [],
   "source": []
  },
  {
   "cell_type": "markdown",
   "metadata": {},
   "source": [
    "Write a function `alternate_caps` that takes a string `s` as a parameter and creates a new string that has the first word from `s` but all uppercase, the second word from `s` but all lowercase, the third word from `s` but all uppercase, and so on."
   ]
  },
  {
   "cell_type": "code",
   "execution_count": null,
   "metadata": {
    "nbgrader": {
     "grade": false,
     "grade_id": "cell-2263955949917697",
     "locked": false,
     "schema_version": 3,
     "solution": true,
     "task": false
    }
   },
   "outputs": [],
   "source": []
  },
  {
   "cell_type": "code",
   "execution_count": null,
   "metadata": {
    "nbgrader": {
     "grade": true,
     "grade_id": "cell-1ffa8570694620c1",
     "locked": true,
     "points": 0,
     "schema_version": 3,
     "solution": false,
     "task": false
    }
   },
   "outputs": [],
   "source": [
    "#tests for capitalize_first\n",
    "from nose.tools import assert_equal\n",
    "\n",
    "### BEGIN TEST\n",
    "assert_equal(first_word(\"a\"), \"a\")\n",
    "assert_equal(first_word(\"word one\"), \"word\")\n",
    "assert_equal(first_word(\"another test here\"), \"another\")\n",
    "assert_equal(first_word(\"\"), \"\")"
   ]
  },
  {
   "cell_type": "code",
   "execution_count": null,
   "metadata": {
    "nbgrader": {
     "grade": true,
     "grade_id": "cell-885106d2582288e2",
     "locked": true,
     "points": 0,
     "schema_version": 3,
     "solution": false,
     "task": false
    }
   },
   "outputs": [],
   "source": [
    "#tests for capitalize_first\n",
    "from nose.tools import assert_equal\n",
    "\n",
    "### BEGIN TEST\n",
    "assert_equal(get_letters(\"a\"), \"a\")\n",
    "assert_equal(get_letters(\"word one 1\"), \"wordone\")\n",
    "assert_equal(get_letters(\"c4tf1sh!\"), \"ctfsh\")\n",
    "assert_equal(get_letters(\"\"), \"\")"
   ]
  },
  {
   "cell_type": "code",
   "execution_count": null,
   "metadata": {
    "nbgrader": {
     "grade": true,
     "grade_id": "cell-9bd766667203b93b",
     "locked": true,
     "points": 0,
     "schema_version": 3,
     "solution": false,
     "task": false
    }
   },
   "outputs": [],
   "source": [
    "#tests for capitalize_first\n",
    "from nose.tools import assert_equal\n",
    "\n",
    "### BEGIN TEST\n",
    "assert_equal(reformat_date(\"09/10/2018\"), \"10.09.2018\")\n",
    "assert_equal(reformat_date(\"01/01/2018\"), \"01.01.2022\")"
   ]
  },
  {
   "cell_type": "code",
   "execution_count": null,
   "metadata": {
    "nbgrader": {
     "grade": true,
     "grade_id": "cell-ee863e0a921ef790",
     "locked": true,
     "points": 0,
     "schema_version": 3,
     "solution": false,
     "task": false
    }
   },
   "outputs": [],
   "source": [
    "#tests for capitalize_first\n",
    "from nose.tools import assert_equal\n",
    "\n",
    "### BEGIN TEST\n",
    "assert_equal(first_word(\"a\"), \"A\")\n",
    "assert_equal(first_word(\"word one\"), \"Word one\")\n",
    "assert_equal(first_word(\"another test here\"), \"Another test Here\")\n",
    "assert_equal(first_word(\"\"), \"\")"
   ]
  }
 ],
 "metadata": {
  "kernelspec": {
   "display_name": "Python 3",
   "language": "python",
   "name": "python3"
  },
  "language_info": {
   "codemirror_mode": {
    "name": "ipython",
    "version": 3
   },
   "file_extension": ".py",
   "mimetype": "text/x-python",
   "name": "python",
   "nbconvert_exporter": "python",
   "pygments_lexer": "ipython3",
   "version": "3.7.4"
  }
 },
 "nbformat": 4,
 "nbformat_minor": 2
}
