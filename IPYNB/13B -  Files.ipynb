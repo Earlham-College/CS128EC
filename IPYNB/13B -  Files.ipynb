{
 "cells": [
  {
   "cell_type": "markdown",
   "id": "1750ece5",
   "metadata": {},
   "source": [
    "# Exercises\n",
    "\n",
    "Solve the following exercises using functions.\n",
    "\n",
    "## 1. Write a Python program to read an entire text file.\n",
    "<!--\n",
    "def file_read(fname):\n",
    "        txt = open(fname)\n",
    "        print(txt.read())\n",
    "file_read('test.txt')\n",
    "-->\n",
    "Following you find the flowchart: Example (on your left), and general (on your right).\n",
    "\n",
    "<img src=\"https://www.w3resource.com/w3r_images/python-io-exercise-flowchart-1.png\" style=\"height:250px\"> \n"
   ]
  },
  {
   "cell_type": "code",
   "execution_count": 1,
   "id": "3501f318",
   "metadata": {},
   "outputs": [
    {
     "name": "stdout",
     "output_type": "stream",
     "text": [
      "Which is the file name?example.txt\n",
      "hola, hi!\n",
      "how are you?\n",
      "ca va?\n",
      "what's up?\n"
     ]
    }
   ],
   "source": [
    "def file_read(fname):\n",
    "    txt = open(fname)\n",
    "    print(txt.read())\n",
    "\n",
    "file_A = input('Which is the file name?')    \n",
    "file_read(file_A)"
   ]
  },
  {
   "cell_type": "markdown",
   "id": "76b8a0a6",
   "metadata": {},
   "source": [
    "## 2. Write a Python program to read first n lines of a file.\n",
    "<!--\n",
    "def file_read_from_head(fname, nlines):\n",
    "        from itertools import islice\n",
    "        with open(fname) as f:\n",
    "                for line in islice(f, nlines):\n",
    "                        print(line)\n",
    "file_read_from_head('test.txt',2)\n",
    "Option 2\n",
    "from itertools import islice\n",
    "f = open('test.txt',\"r\")\n",
    "def file_read_from_head(fname, nlines):\n",
    "    for line in islice(f, nlines):\n",
    "        print(line)\n",
    "file_read_from_head(f,6)\n",
    "-->\n",
    "Following you find the flowchart: Example (on your left), and general (on your right).\n",
    "\n",
    "<img src=\"https://www.w3resource.com/w3r_images/python-io-exercise-flowchart-2.png\" style=\"height:450px\"> "
   ]
  },
  {
   "cell_type": "code",
   "execution_count": 1,
   "id": "35b8fd25",
   "metadata": {},
   "outputs": [
    {
     "name": "stdout",
     "output_type": "stream",
     "text": [
      "hola, hi!\n",
      "\n",
      "how are you?\n",
      "\n",
      "ca va?\n",
      "\n"
     ]
    }
   ],
   "source": [
    "from itertools import islice\n",
    "\n",
    "def file_read_from_head(fname, nlines):\n",
    "    with open(fname) as f:\n",
    "        for line in islice(f, nlines):\n",
    "                print(line)\n",
    "file_read_from_head('example.txt',3)"
   ]
  },
  {
   "cell_type": "markdown",
   "id": "50e09bb5",
   "metadata": {},
   "source": [
    "## 3. Write a Python program to append text to a file and display the text.\n",
    "<!--\n",
    "def file_read(fname):\n",
    "        from itertools import islice\n",
    "        with open(fname, \"w\") as myfile:\n",
    "                myfile.write(\"Python Exercises\\n\")\n",
    "                myfile.write(\"Java Exercises\")\n",
    "        txt = open(fname)\n",
    "        print(txt.read())\n",
    "file_read('abc.txt')\n",
    "\n",
    "-->\n",
    "Following you find the flowchart: Example (on your left), and general (on your right).\n",
    "\n",
    "<img src=\"https://www.w3resource.com/w3r_images/python-io-exercise-flowchart-3.png\" style=\"height:450px\"> "
   ]
  },
  {
   "cell_type": "code",
   "execution_count": null,
   "id": "69434a81",
   "metadata": {},
   "outputs": [],
   "source": []
  },
  {
   "cell_type": "markdown",
   "id": "0c49c73a",
   "metadata": {},
   "source": [
    "## 4. Write a Python program to read last n lines of a file.\n",
    "This is an advance exercise.\n",
    "You need:\n",
    "    1. os module\n",
    "<!--\n",
    "import sys\n",
    "import os\n",
    "def file_read_from_tail(fname,lines):\n",
    "        bufsize = 8192\n",
    "        fsize = os.stat(fname).st_size\n",
    "        iter = 0\n",
    "        with open(fname) as f:\n",
    "                if bufsize > fsize:\n",
    "                        bufsize = fsize-1\n",
    "                        data = []\n",
    "                        while True:\n",
    "                                iter +=1\n",
    "                                f.seek(fsize-bufsize*iter)\n",
    "                                data.extend(f.readlines())\n",
    "                                if len(data) >= lines or f.tell() == 0:\n",
    "                                        print(''.join(data[-lines:]))\n",
    "                                        break\n",
    "file_read_from_tail('test.txt',2)\n",
    "-->\n",
    "Following you find the flowchart: Example (on your left), and general (on your right).\n",
    "\n",
    "<img src=\"https://www.w3resource.com/w3r_images/python-io-exercise-flowchart-4.png\" style=\"height:850px\"> "
   ]
  },
  {
   "cell_type": "code",
   "execution_count": null,
   "id": "39281d79",
   "metadata": {},
   "outputs": [],
   "source": []
  },
  {
   "cell_type": "markdown",
   "id": "3ae4f563",
   "metadata": {},
   "source": [
    "# References\n",
    "[1] [resource](https://www.w3resource.com/python-exercises/file/)"
   ]
  },
  {
   "cell_type": "code",
   "execution_count": null,
   "id": "670367a9",
   "metadata": {},
   "outputs": [],
   "source": []
  }
 ],
 "metadata": {
  "kernelspec": {
   "display_name": "Python 3.9",
   "language": "python",
   "name": "py39"
  },
  "language_info": {
   "codemirror_mode": {
    "name": "ipython",
    "version": 3
   },
   "file_extension": ".py",
   "mimetype": "text/x-python",
   "name": "python",
   "nbconvert_exporter": "python",
   "pygments_lexer": "ipython3",
   "version": "3.9.1"
  }
 },
 "nbformat": 4,
 "nbformat_minor": 5
}
