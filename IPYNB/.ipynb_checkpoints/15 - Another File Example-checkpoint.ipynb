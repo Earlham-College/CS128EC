{
 "cells": [
  {
   "cell_type": "markdown",
   "metadata": {},
   "source": [
    "## Processing a file with larger amounts of data"
   ]
  },
  {
   "cell_type": "markdown",
   "metadata": {},
   "source": [
    "Write a function `print_maze` that takes a file name as a parameter. The file contains the specification of a maze, with blocked spaces, a starting location, and the locations of some treasure within the maze. The file will specify the width and height of the maze in the first line, the starting location as a row and column value on the second line. It will then have the number of blocked spaces on the third line, followed by row and column locations for each blocked space. After the blocked spaces, it will specify the number of treasures on one line, followed by row and column locations for each treasure. For example:\n",
    "\n",
    "```\n",
    "5 5\n",
    "1 0\n",
    "8\n",
    "0 1\n",
    "1 1\n",
    "2 1\n",
    "3 1\n",
    "1 2\n",
    "1 3\n",
    "3 3\n",
    "4 3\n",
    "2\n",
    "0 2\n",
    "3 4\n",
    "```\n",
    "\n",
    "Your function should display the maze by printing each space in the maze, using `_` for unblocked spaces, `#` for blocked spaces, `@` for the starting location, and `*` for treasures. The maze above would display as:\n",
    "\n",
    "```\n",
    "_#*__\n",
    "@###_\n",
    "_#___\n",
    "_#_#*\n",
    "___#_\n",
    "```"
   ]
  },
  {
   "cell_type": "code",
   "execution_count": null,
   "metadata": {},
   "outputs": [],
   "source": []
  }
 ],
 "metadata": {
  "kernelspec": {
   "display_name": "Python 3",
   "language": "python",
   "name": "python3"
  },
  "language_info": {
   "codemirror_mode": {
    "name": "ipython",
    "version": 3
   },
   "file_extension": ".py",
   "mimetype": "text/x-python",
   "name": "python",
   "nbconvert_exporter": "python",
   "pygments_lexer": "ipython3",
   "version": "3.7.4"
  }
 },
 "nbformat": 4,
 "nbformat_minor": 2
}
