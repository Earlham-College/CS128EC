{
 "cells": [
  {
   "cell_type": "code",
   "execution_count": 9,
   "id": "88d1f932",
   "metadata": {},
   "outputs": [],
   "source": [
    "import math\n",
    "# Finds the real solutions to a quadratic equation\n",
    "def quadratics(a,b,c):\n",
    "    disc_root = math.sqrt(b*b-4*a*c)\n",
    "    root1 = (-b + disc_root)/(2*a)\n",
    "    root2 = (-b - disc_root)/(2*a)\n",
    "    return root1, root2"
   ]
  },
  {
   "cell_type": "code",
   "execution_count": 10,
   "id": "5172a401",
   "metadata": {},
   "outputs": [
    {
     "data": {
      "text/plain": [
       "(-0.2679491924311228, -3.732050807568877)"
      ]
     },
     "execution_count": 10,
     "metadata": {},
     "output_type": "execute_result"
    }
   ],
   "source": [
    "quadratics(1,4,1)"
   ]
  },
  {
   "cell_type": "code",
   "execution_count": null,
   "id": "fa4b3195",
   "metadata": {},
   "outputs": [],
   "source": []
  }
 ],
 "metadata": {
  "kernelspec": {
   "display_name": "Python 3.9",
   "language": "python",
   "name": "py39"
  },
  "language_info": {
   "codemirror_mode": {
    "name": "ipython",
    "version": 3
   },
   "file_extension": ".py",
   "mimetype": "text/x-python",
   "name": "python",
   "nbconvert_exporter": "python",
   "pygments_lexer": "ipython3",
   "version": "3.9.1"
  }
 },
 "nbformat": 4,
 "nbformat_minor": 5
}
