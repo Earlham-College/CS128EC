{
 "cells": [
  {
   "cell_type": "code",
   "execution_count": null,
   "id": "4ee1a8ca",
   "metadata": {},
   "outputs": [],
   "source": [
    "txtName = \"\"\n",
    "\n",
    "def myFunction(txtName):\n",
    "    fileName= open(txtName,\"r\")\n",
    "    contents=fileName.readline()\n",
    "    print(contents)\n",
    "    \n",
    "myFunction(\"example.txt\")"
   ]
  },
  {
   "cell_type": "code",
   "execution_count": null,
   "id": "4935ce3b",
   "metadata": {},
   "outputs": [],
   "source": [
    "fileName.close()"
   ]
  },
  {
   "cell_type": "code",
   "execution_count": 6,
   "id": "470e49ed",
   "metadata": {},
   "outputs": [],
   "source": [
    "!cp ~barbeda/cs128-share/notPalindrome.txt ."
   ]
  },
  {
   "cell_type": "code",
   "execution_count": 7,
   "id": "4d4762c7",
   "metadata": {},
   "outputs": [
    {
     "name": "stdout",
     "output_type": "stream",
     "text": [
      "Which is the file name?notPalindrome.txt\n",
      "Dammit I’m mad.\n",
      "Evil is a deed as I live.\n",
      "God, am I reviled? I rise, my bed on a sun, I melt.\n",
      "To be not one man emanating is sad. I piss.\n",
      "Alas, it is so late. Who stops to help?\n",
      "Man, it is hot. I’m in it. I tell.\n",
      "I am not a devil. I level “Mad Dog”.\n",
      "Ah, say burning is, as a deified gulp,\n",
      "In my halo of a mired rum tin.\n",
      "I erase many men. Oh, to be man, a sin.\n",
      "Is evil in a clam? In a trap?\n",
      "No. It is open. On it I was stuck.\n",
      "Rats peed on hope. Elsewhere dips a web.\n",
      "Be still if I fill its ebb.\n",
      "Ew, a spider... eh?\n",
      "We sleep. Oh yes!\n",
      "Deep, stark cuts saw it in one position.\n",
      "Part animal, can I live? Sin is a name.\n",
      "Both, one... my names are in it.\n",
      "Murder? I’m a fool.\n",
      "A hymn I plug, deified as a sign in ruby ash,\n",
      "A Goddam level I lived at.\n",
      "On mail let it in. I’m it.\n",
      "Oh, sit in ample hot spots. Oh wet!\n",
      "A loss it is alas (sip). I’d assign it a name.\n",
      "Name not one bottle minus an ode by me:\n",
      "“Sir, I deliver. I’m a dog”\n",
      "Evil is a deed as I live.\n",
      "Dammit I’m mad.\n",
      "\n"
     ]
    }
   ],
   "source": [
    "def file_read(fname):\n",
    "    txt = open(fname)\n",
    "    print(txt.read())\n",
    "\n",
    "file_A = input('Which is the file name?')    \n",
    "file_read(file_A)"
   ]
  },
  {
   "cell_type": "code",
   "execution_count": null,
   "id": "6add89de",
   "metadata": {},
   "outputs": [],
   "source": []
  },
  {
   "cell_type": "code",
   "execution_count": null,
   "id": "3d1e86aa",
   "metadata": {},
   "outputs": [],
   "source": []
  },
  {
   "cell_type": "code",
   "execution_count": null,
   "id": "02dcb66e",
   "metadata": {},
   "outputs": [],
   "source": []
  },
  {
   "cell_type": "code",
   "execution_count": null,
   "id": "00254167",
   "metadata": {},
   "outputs": [],
   "source": []
  },
  {
   "cell_type": "code",
   "execution_count": null,
   "id": "b43dff59",
   "metadata": {},
   "outputs": [],
   "source": []
  },
  {
   "cell_type": "code",
   "execution_count": null,
   "id": "adf9a86d",
   "metadata": {},
   "outputs": [],
   "source": [
    "def is_palindrome(file):\n",
    "    inFile = open(file, 'r')\n",
    "    strToCheck = \"\"\n",
    "    contents = inFile.read()\n",
    "    inFile.close()\n",
    "    for ch in contents:\n",
    "        if ch.isalpha():\n",
    "            strToCheck += ch.lower()\n",
    "    print(strToCheck)\n",
    "            \n",
    "    return strToCheck == strToCheck[::-1]"
   ]
  },
  {
   "cell_type": "code",
   "execution_count": null,
   "id": "d46d2518",
   "metadata": {},
   "outputs": [],
   "source": []
  },
  {
   "cell_type": "code",
   "execution_count": null,
   "id": "6e983533",
   "metadata": {},
   "outputs": [],
   "source": []
  },
  {
   "cell_type": "code",
   "execution_count": null,
   "id": "340902b6",
   "metadata": {},
   "outputs": [],
   "source": []
  },
  {
   "cell_type": "code",
   "execution_count": null,
   "id": "62966269",
   "metadata": {},
   "outputs": [],
   "source": []
  },
  {
   "cell_type": "code",
   "execution_count": null,
   "id": "d8105530",
   "metadata": {},
   "outputs": [],
   "source": []
  },
  {
   "cell_type": "code",
   "execution_count": null,
   "id": "6bf9b900",
   "metadata": {},
   "outputs": [],
   "source": []
  },
  {
   "cell_type": "code",
   "execution_count": 3,
   "id": "808950c5",
   "metadata": {},
   "outputs": [],
   "source": [
    "my_file = open(\"example.txt\", \"r\")"
   ]
  },
  {
   "cell_type": "code",
   "execution_count": 4,
   "id": "dbd9a80c",
   "metadata": {},
   "outputs": [
    {
     "name": "stdout",
     "output_type": "stream",
     "text": [
      "hola, hi!\n",
      "how are you?\n",
      "ca va?\n",
      "what's up?"
     ]
    }
   ],
   "source": [
    "for line in my_file:\n",
    "    print(\"------\")\n",
    "    print(line, end=\"\")\n",
    "my_file.close()"
   ]
  },
  {
   "cell_type": "code",
   "execution_count": null,
   "id": "04182882",
   "metadata": {},
   "outputs": [],
   "source": [
    "my_file.close()"
   ]
  },
  {
   "cell_type": "code",
   "execution_count": null,
   "id": "79465893",
   "metadata": {},
   "outputs": [],
   "source": [
    "outputFileHandle = open(\"output.txt\", \"w+\")\n",
    "coolDataItems = [\"Hi\", \"Mundo\"]\n",
    "for coolData in coolDataItems:\n",
    "    outputFileHandle.write(coolData)\n",
    "    outputFileHandle.write(\"\\n\")\n",
    "outputFileHandle.close()"
   ]
  },
  {
   "cell_type": "code",
   "execution_count": null,
   "id": "49f84a47",
   "metadata": {},
   "outputs": [],
   "source": [
    "f = open(\"output.txt\", \"a\")\n",
    "data = ['hola', 'mundo']\n",
    "for line in data:\n",
    "    f.write(line + \"\\n\")\n",
    "    print(line)\n",
    "f.close()"
   ]
  },
  {
   "cell_type": "code",
   "execution_count": null,
   "id": "41186dfc",
   "metadata": {},
   "outputs": [],
   "source": [
    "my_file = open(\"output.txt\", \"r\")\n",
    "for line in my_file:\n",
    "    print(\"-----\")\n",
    "    print(line, end=\"\")\n",
    "my_file.close()"
   ]
  },
  {
   "cell_type": "code",
   "execution_count": null,
   "id": "74aa751d",
   "metadata": {},
   "outputs": [],
   "source": [
    "f = open(\"output.txt\", \"r\")\n",
    "first_f = f.readline()\n",
    "print(first_f)\n",
    "sec_f=f.readline()\n",
    "print(sec_f)"
   ]
  },
  {
   "cell_type": "code",
   "execution_count": null,
   "id": "aca86e5e",
   "metadata": {},
   "outputs": [],
   "source": []
  }
 ],
 "metadata": {
  "kernelspec": {
   "display_name": "Python 3.9",
   "language": "python",
   "name": "py39"
  },
  "language_info": {
   "codemirror_mode": {
    "name": "ipython",
    "version": 3
   },
   "file_extension": ".py",
   "mimetype": "text/x-python",
   "name": "python",
   "nbconvert_exporter": "python",
   "pygments_lexer": "ipython3",
   "version": "3.9.1"
  }
 },
 "nbformat": 4,
 "nbformat_minor": 5
}
