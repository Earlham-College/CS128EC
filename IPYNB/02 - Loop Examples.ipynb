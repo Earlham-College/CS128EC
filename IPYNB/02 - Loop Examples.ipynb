{
 "cells": [
  {
   "cell_type": "markdown",
   "metadata": {
    "nbgrader": {
     "grade": false,
     "grade_id": "cell-9f224b9b2c249fc5",
     "locked": true,
     "schema_version": 3,
     "solution": false,
     "task": false
    }
   },
   "source": [
    "## Loops"
   ]
  },
  {
   "cell_type": "markdown",
   "metadata": {},
   "source": [
    "Write a loop which prints all the numbers from 0 to 12, each on their own line."
   ]
  },
  {
   "cell_type": "code",
   "execution_count": null,
   "metadata": {
    "nbgrader": {
     "grade": false,
     "grade_id": "cell-342ede9f7e8e5c2e",
     "locked": false,
     "schema_version": 3,
     "solution": true,
     "task": false
    }
   },
   "outputs": [],
   "source": []
  },
  {
   "cell_type": "markdown",
   "metadata": {},
   "source": [
    "Write a function `evens` which takes a parameter `x` and prints all the even numbers between 2 and `x`, excluding `x`."
   ]
  },
  {
   "cell_type": "code",
   "execution_count": null,
   "metadata": {
    "nbgrader": {
     "grade": false,
     "grade_id": "cell-b84531928ea91a34",
     "locked": false,
     "schema_version": 3,
     "solution": true,
     "task": false
    }
   },
   "outputs": [],
   "source": []
  },
  {
   "cell_type": "markdown",
   "metadata": {},
   "source": [
    "Write a function `two_powers` which prints all the powers of two with exponents 0 through 9 (ie. 1 through 512.)"
   ]
  },
  {
   "cell_type": "code",
   "execution_count": null,
   "metadata": {
    "nbgrader": {
     "grade": false,
     "grade_id": "cell-abe2f23d6621f4fd",
     "locked": false,
     "schema_version": 3,
     "solution": true,
     "task": false
    }
   },
   "outputs": [],
   "source": []
  },
  {
   "cell_type": "markdown",
   "metadata": {},
   "source": [
    "Write a function `total` which takes two parameters `a` and `b`, and returns the sum of all numbers from `a` to `b` (including `a` and excluding `b`.)"
   ]
  },
  {
   "cell_type": "code",
   "execution_count": null,
   "metadata": {
    "nbgrader": {
     "grade": false,
     "grade_id": "cell-f78dc8c085164e7d",
     "locked": false,
     "schema_version": 3,
     "solution": true,
     "task": false
    }
   },
   "outputs": [],
   "source": []
  },
  {
   "cell_type": "markdown",
   "metadata": {},
   "source": [
    "Write a function `total_evens` which takes two parameters `a` and `b`, and returns the sum of all the even numbers from `a` to `b` (including `a` and excluding `b`.)"
   ]
  },
  {
   "cell_type": "code",
   "execution_count": null,
   "metadata": {
    "nbgrader": {
     "grade": false,
     "grade_id": "cell-4ea03dd27d061d72",
     "locked": false,
     "schema_version": 3,
     "solution": true,
     "task": false
    }
   },
   "outputs": [],
   "source": []
  },
  {
   "cell_type": "markdown",
   "metadata": {},
   "source": [
    "## Validation"
   ]
  },
  {
   "cell_type": "code",
   "execution_count": null,
   "metadata": {
    "nbgrader": {
     "grade": true,
     "grade_id": "cell-11a377cf18dbad8f",
     "locked": true,
     "points": 0,
     "schema_version": 3,
     "solution": false,
     "task": false
    }
   },
   "outputs": [],
   "source": [
    "# Ignore this cell\n",
    "# DO NOT DELETE THIS CELL\n",
    "### BEGIN TEST\n",
    "from io import StringIO\n",
    "import sys\n",
    "from nose.tools import assert_equal"
   ]
  },
  {
   "cell_type": "code",
   "execution_count": null,
   "metadata": {
    "nbgrader": {
     "grade": true,
     "grade_id": "cell-740643c29763f3e5",
     "locked": true,
     "points": 1,
     "schema_version": 3,
     "solution": false,
     "task": false
    }
   },
   "outputs": [],
   "source": [
    "# Ignore this cell\n",
    "# DO NOT DELETE THIS CELL\n",
    "### BEGIN TEST\n",
    "\n",
    "temp_out = StringIO()\n",
    "sys.stdout = temp_out\n",
    "evens(10)\n",
    "temp_out.flush()\n",
    "assert_equal(temp_out.getvalue(), \"2\\n4\\n6\\n8\\n\")\n",
    "temp_out.close()\n",
    "\n",
    "\n",
    "temp_out = StringIO()\n",
    "sys.stdout = temp_out\n",
    "evens(4)\n",
    "temp_out.flush()\n",
    "assert_equal(temp_out.getvalue(), \"2\\n\")\n",
    "temp_out.close()\n",
    "\n",
    "\n",
    "temp_out = StringIO()\n",
    "sys.stdout = temp_out\n",
    "evens(6)\n",
    "temp_out.flush()\n",
    "assert_equal(temp_out.getvalue(), \"2\\n4\\n\")\n",
    "temp_out.close()\n",
    "\n",
    "\n",
    "temp_out = StringIO()\n",
    "sys.stdout = temp_out\n",
    "evens(2)\n",
    "temp_out.flush()\n",
    "assert_equal(temp_out.getvalue(), \"\")\n",
    "temp_out.close()"
   ]
  },
  {
   "cell_type": "code",
   "execution_count": null,
   "metadata": {
    "nbgrader": {
     "grade": true,
     "grade_id": "cell-8b3516e44517f954",
     "locked": true,
     "points": 1,
     "schema_version": 3,
     "solution": false,
     "task": false
    }
   },
   "outputs": [],
   "source": [
    "# Ignore this cell\n",
    "# DO NOT DELETE THIS CELL\n",
    "### BEGIN TEST\n",
    "\n",
    "temp_out = StringIO()\n",
    "sys.stdout = temp_out\n",
    "two_powers()\n",
    "temp_out.flush()\n",
    "assert_equal(temp_out.getvalue(), \"1\\n2\\n4\\n8\\n16\\n32\\n64\\n128\\n256\\n512\\n\")\n",
    "temp_out.close()"
   ]
  },
  {
   "cell_type": "code",
   "execution_count": null,
   "metadata": {
    "nbgrader": {
     "grade": true,
     "grade_id": "cell-e537c171f9c35d50",
     "locked": true,
     "points": 1,
     "schema_version": 3,
     "solution": false,
     "task": false
    }
   },
   "outputs": [],
   "source": [
    "# Ignore this cell\n",
    "# DO NOT DELETE THIS CELL\n",
    "### BEGIN TEST\n",
    "\n",
    "assert_equal(total(1,2), 3)\n",
    "assert_equal(total(2,5), 14)\n",
    "assert_equal(total(1,1), 1)\n",
    "assert_equal(total(0,0), 0)"
   ]
  },
  {
   "cell_type": "code",
   "execution_count": null,
   "metadata": {
    "nbgrader": {
     "grade": true,
     "grade_id": "cell-bb4928a437aa1622",
     "locked": true,
     "points": 1,
     "schema_version": 3,
     "solution": false,
     "task": false
    }
   },
   "outputs": [],
   "source": [
    "# Ignore this cell\n",
    "# DO NOT DELETE THIS CELL\n",
    "### BEGIN TEST\n",
    "\n",
    "assert_equal(total_evens(1,2), 3)\n",
    "assert_equal(total_evens(2,5), 14)\n",
    "assert_equal(total_evens(1,1), 1)\n",
    "assert_equal(total_evens(0,0), 0)"
   ]
  }
 ],
 "metadata": {
  "kernelspec": {
   "display_name": "Python 3",
   "language": "python",
   "name": "python3"
  },
  "language_info": {
   "codemirror_mode": {
    "name": "ipython",
    "version": 3
   },
   "file_extension": ".py",
   "mimetype": "text/x-python",
   "name": "python",
   "nbconvert_exporter": "python",
   "pygments_lexer": "ipython3",
   "version": "3.7.4"
  }
 },
 "nbformat": 4,
 "nbformat_minor": 2
}
