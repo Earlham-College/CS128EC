{
 "cells": [
  {
   "cell_type": "code",
   "execution_count": 7,
   "id": "608ee0d0",
   "metadata": {},
   "outputs": [],
   "source": [
    "list1=[1,'two']"
   ]
  },
  {
   "cell_type": "code",
   "execution_count": 8,
   "id": "8e88f6aa",
   "metadata": {},
   "outputs": [],
   "source": [
    "list2=[2,-0.1, list1]"
   ]
  },
  {
   "cell_type": "code",
   "execution_count": 12,
   "id": "a1419229",
   "metadata": {},
   "outputs": [
    {
     "data": {
      "text/plain": [
       "[1, 'two']"
      ]
     },
     "execution_count": 12,
     "metadata": {},
     "output_type": "execute_result"
    }
   ],
   "source": [
    "list2[2]"
   ]
  },
  {
   "cell_type": "code",
   "execution_count": 13,
   "id": "9bba36c4",
   "metadata": {},
   "outputs": [
    {
     "data": {
      "text/plain": [
       "1"
      ]
     },
     "execution_count": 13,
     "metadata": {},
     "output_type": "execute_result"
    }
   ],
   "source": [
    "list2[2][0]"
   ]
  },
  {
   "cell_type": "code",
   "execution_count": 14,
   "id": "ba3a4a69",
   "metadata": {},
   "outputs": [
    {
     "data": {
      "text/plain": [
       "True"
      ]
     },
     "execution_count": 14,
     "metadata": {},
     "output_type": "execute_result"
    }
   ],
   "source": [
    "2 in list2"
   ]
  },
  {
   "cell_type": "code",
   "execution_count": 15,
   "id": "a8de379f",
   "metadata": {},
   "outputs": [],
   "source": [
    "list2.append('three')"
   ]
  },
  {
   "cell_type": "code",
   "execution_count": 16,
   "id": "e9f411b4",
   "metadata": {},
   "outputs": [
    {
     "data": {
      "text/plain": [
       "[2, -0.1, [1, 'two'], 'three']"
      ]
     },
     "execution_count": 16,
     "metadata": {},
     "output_type": "execute_result"
    }
   ],
   "source": [
    "list2"
   ]
  },
  {
   "cell_type": "code",
   "execution_count": 17,
   "id": "af54cfc3",
   "metadata": {},
   "outputs": [],
   "source": [
    "list2.remove(-0.1)"
   ]
  },
  {
   "cell_type": "code",
   "execution_count": 18,
   "id": "01cbac5c",
   "metadata": {},
   "outputs": [
    {
     "data": {
      "text/plain": [
       "[2, [1, 'two'], 'three']"
      ]
     },
     "execution_count": 18,
     "metadata": {},
     "output_type": "execute_result"
    }
   ],
   "source": [
    "list2"
   ]
  },
  {
   "cell_type": "code",
   "execution_count": 30,
   "id": "777d65c4",
   "metadata": {},
   "outputs": [
    {
     "data": {
      "text/plain": [
       "2"
      ]
     },
     "execution_count": 30,
     "metadata": {},
     "output_type": "execute_result"
    }
   ],
   "source": [
    "list2.index('three',1)"
   ]
  },
  {
   "cell_type": "code",
   "execution_count": null,
   "id": "f52fee5b",
   "metadata": {},
   "outputs": [],
   "source": []
  }
 ],
 "metadata": {
  "kernelspec": {
   "display_name": "Python 3.9",
   "language": "python",
   "name": "py39"
  },
  "language_info": {
   "codemirror_mode": {
    "name": "ipython",
    "version": 3
   },
   "file_extension": ".py",
   "mimetype": "text/x-python",
   "name": "python",
   "nbconvert_exporter": "python",
   "pygments_lexer": "ipython3",
   "version": "3.9.1"
  }
 },
 "nbformat": 4,
 "nbformat_minor": 5
}
