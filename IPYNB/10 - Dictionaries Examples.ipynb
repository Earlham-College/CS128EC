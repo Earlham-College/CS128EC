{
 "cells": [
  {
   "cell_type": "markdown",
   "metadata": {},
   "source": [
    "## Dictionary Examples"
   ]
  },
  {
   "cell_type": "markdown",
   "metadata": {},
   "source": [
    "**Ordinals**\n",
    "\n",
    "Make a dictionary that maps numbers to their ordinal words (first, second, third, etc.) for the numbers `1` through `3`. The keys should be integers and the values should be strings."
   ]
  },
  {
   "cell_type": "code",
   "execution_count": 1,
   "metadata": {},
   "outputs": [],
   "source": [
    "ordinals = {1 : \"first\", 2 : \"second\", 3 : \"third\"}"
   ]
  },
  {
   "cell_type": "markdown",
   "metadata": {},
   "source": [
    "Print the ordinal for 3."
   ]
  },
  {
   "cell_type": "code",
   "execution_count": 2,
   "metadata": {},
   "outputs": [
    {
     "data": {
      "text/plain": [
       "'third'"
      ]
     },
     "execution_count": 2,
     "metadata": {},
     "output_type": "execute_result"
    }
   ],
   "source": [
    "ordinals[3]"
   ]
  },
  {
   "cell_type": "markdown",
   "metadata": {},
   "source": [
    "Change the existing values for the keys `1`, `2`, `3` to `\"1st\"`, `\"2nd\"`, `\"3rd\"`."
   ]
  },
  {
   "cell_type": "code",
   "execution_count": 5,
   "metadata": {},
   "outputs": [
    {
     "data": {
      "text/plain": [
       "{1: '1st', 2: '2nd', 3: '3rd'}"
      ]
     },
     "execution_count": 5,
     "metadata": {},
     "output_type": "execute_result"
    }
   ],
   "source": [
    "ordinals[1]=\"1st\"\n",
    "ordinals[2]=\"2nd\"\n",
    "ordinals[3]=\"3rd\"\n",
    "\n",
    "ordinals"
   ]
  },
  {
   "cell_type": "markdown",
   "metadata": {},
   "source": [
    "Add an entry for `4`."
   ]
  },
  {
   "cell_type": "code",
   "execution_count": 7,
   "metadata": {},
   "outputs": [
    {
     "data": {
      "text/plain": [
       "{1: '1st', 2: '2nd', 3: '3rd', 4: '4th'}"
      ]
     },
     "execution_count": 7,
     "metadata": {},
     "output_type": "execute_result"
    }
   ],
   "source": [
    "ordinals[4]='4th'\n",
    "ordinals"
   ]
  },
  {
   "cell_type": "markdown",
   "metadata": {},
   "source": [
    "**Bank accounts**\n",
    "\n",
    "For the next part, use the dictionary representing bank account balances below."
   ]
  },
  {
   "cell_type": "code",
   "execution_count": 1,
   "metadata": {},
   "outputs": [],
   "source": [
    "#RUN THIS BLOCK\n",
    "accounts = {\"Sofia\": 525, \"Dave\": 200, \"Charlie\": 315, \"Doug\": 600}"
   ]
  },
  {
   "cell_type": "markdown",
   "metadata": {},
   "source": [
    "Write a function `has_account` that takes a person's name (a string) as a parameter and checks if that person has an account in the `accounts` dictionary."
   ]
  },
  {
   "cell_type": "code",
   "execution_count": null,
   "metadata": {},
   "outputs": [],
   "source": []
  },
  {
   "cell_type": "markdown",
   "metadata": {},
   "source": [
    "Write a function `get_balance` that takes a person's name (a string) as a parameter and prints the balance for that person.\n",
    "\n",
    "If the person does not have an account, it should print `\"No account found.\"`"
   ]
  },
  {
   "cell_type": "code",
   "execution_count": null,
   "metadata": {},
   "outputs": [],
   "source": []
  },
  {
   "cell_type": "markdown",
   "metadata": {},
   "source": [
    "Write two functions `withdraw` and `deposit` that take a person's name (a string) as a parameter as well as an integer value. `withdraw` should decrease the person's balance by the given amount and print the new balance, while `deposit` should increase the person's balance and print the new balance.\n",
    "\n",
    "**Note:** these functions should change the entry in the dictionary (this is called a side-effect of the function.)\n",
    "\n",
    "If the person does not have an account, it should print `\"No account found.\"`"
   ]
  },
  {
   "cell_type": "code",
   "execution_count": null,
   "metadata": {},
   "outputs": [],
   "source": []
  }
 ],
 "metadata": {
  "kernelspec": {
   "display_name": "Python 3",
   "language": "python",
   "name": "python3"
  },
  "language_info": {
   "codemirror_mode": {
    "name": "ipython",
    "version": 3
   },
   "file_extension": ".py",
   "mimetype": "text/x-python",
   "name": "python",
   "nbconvert_exporter": "python",
   "pygments_lexer": "ipython3",
   "version": "3.7.4"
  }
 },
 "nbformat": 4,
 "nbformat_minor": 2
}
