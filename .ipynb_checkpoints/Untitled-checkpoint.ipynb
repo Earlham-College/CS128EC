{
 "cells": [
  {
   "cell_type": "markdown",
   "id": "ddbe228a",
   "metadata": {},
   "source": [
    "This is the line to call open with two string arguments."
   ]
  },
  {
   "cell_type": "code",
   "execution_count": 1,
   "id": "4ad0fdc2",
   "metadata": {},
   "outputs": [],
   "source": [
    "outfile = open(\"out.txt\", \"w\")"
   ]
  },
  {
   "cell_type": "markdown",
   "id": "cb594dd9",
   "metadata": {},
   "source": [
    "This is line is to write data in the out.txt file"
   ]
  },
  {
   "cell_type": "code",
   "execution_count": 2,
   "id": "2ce402f2",
   "metadata": {},
   "outputs": [
    {
     "data": {
      "text/plain": [
       "8"
      ]
     },
     "execution_count": 2,
     "metadata": {},
     "output_type": "execute_result"
    }
   ],
   "source": [
    "outfile.write(\"Example \")"
   ]
  },
  {
   "cell_type": "code",
   "execution_count": 3,
   "id": "df6eb3df",
   "metadata": {},
   "outputs": [
    {
     "data": {
      "text/plain": [
       "1"
      ]
     },
     "execution_count": 3,
     "metadata": {},
     "output_type": "execute_result"
    }
   ],
   "source": [
    "outfile.write(\"output \")\n",
    "outfile.write(\"text file\\n\")\n",
    "outfile.write(\"xyz Coordinates\\n\")\n",
    "outfile.write(\"MODEL\\n\")\n",
    "outfile.write(\"ATOM %3d\" % 1)\n",
    "seq = \"n %15.6f %15.6e %15.8f\" % (0, 1, 2)\n",
    "outfile.write(seq)\n",
    "outfile.write(\"\\n\")"
   ]
  },
  {
   "cell_type": "code",
   "execution_count": 4,
   "id": "d332016b",
   "metadata": {},
   "outputs": [],
   "source": [
    "outfile.close()"
   ]
  },
  {
   "cell_type": "code",
   "execution_count": null,
   "id": "0a990b55",
   "metadata": {},
   "outputs": [],
   "source": []
  },
  {
   "cell_type": "code",
   "execution_count": 20,
   "id": "f808f7a5",
   "metadata": {},
   "outputs": [
    {
     "name": "stdout",
     "output_type": "stream",
     "text": [
      "6.000044 %3.5f\n"
     ]
    }
   ],
   "source": [
    "def my_fun(a,b):\n",
    "    addition = a + b\n",
    "    product = a * b\n",
    "    division = a / b\n",
    "    substractionA = a - b\n",
    "    substractionB = b - a    \n",
    "    return addition, product, division, substractionA, substractionB\n",
    "float(my_fun(4,2)[0])+0.000044"
   ]
  },
  {
   "cell_type": "code",
   "execution_count": null,
   "id": "205cabe6",
   "metadata": {},
   "outputs": [],
   "source": []
  }
 ],
 "metadata": {
  "kernelspec": {
   "display_name": "Python 3.9",
   "language": "python",
   "name": "py39"
  },
  "language_info": {
   "codemirror_mode": {
    "name": "ipython",
    "version": 3
   },
   "file_extension": ".py",
   "mimetype": "text/x-python",
   "name": "python",
   "nbconvert_exporter": "python",
   "pygments_lexer": "ipython3",
   "version": "3.9.1"
  }
 },
 "nbformat": 4,
 "nbformat_minor": 5
}
