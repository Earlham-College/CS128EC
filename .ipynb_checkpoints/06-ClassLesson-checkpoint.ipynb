{
 "cells": [
  {
   "cell_type": "code",
   "execution_count": 7,
   "id": "6a2fec67",
   "metadata": {},
   "outputs": [],
   "source": [
    "list1=[1,'two']"
   ]
  },
  {
   "cell_type": "code",
   "execution_count": 8,
   "id": "a1b3fc33",
   "metadata": {},
   "outputs": [],
   "source": [
    "list2=[2,-0.1, list1]"
   ]
  },
  {
   "cell_type": "code",
   "execution_count": 12,
   "id": "c8802c13",
   "metadata": {},
   "outputs": [
    {
     "data": {
      "text/plain": [
       "[1, 'two']"
      ]
     },
     "execution_count": 12,
     "metadata": {},
     "output_type": "execute_result"
    }
   ],
   "source": [
    "list2[2]"
   ]
  },
  {
   "cell_type": "code",
   "execution_count": 13,
   "id": "35c2fe07",
   "metadata": {},
   "outputs": [
    {
     "data": {
      "text/plain": [
       "1"
      ]
     },
     "execution_count": 13,
     "metadata": {},
     "output_type": "execute_result"
    }
   ],
   "source": [
    "list2[2][0]"
   ]
  },
  {
   "cell_type": "code",
   "execution_count": 14,
   "id": "df3e19dd",
   "metadata": {},
   "outputs": [
    {
     "data": {
      "text/plain": [
       "True"
      ]
     },
     "execution_count": 14,
     "metadata": {},
     "output_type": "execute_result"
    }
   ],
   "source": [
    "2 in list2"
   ]
  },
  {
   "cell_type": "code",
   "execution_count": 15,
   "id": "c6eebbfc",
   "metadata": {},
   "outputs": [],
   "source": [
    "list2.append('three')"
   ]
  },
  {
   "cell_type": "code",
   "execution_count": 16,
   "id": "4a115807",
   "metadata": {},
   "outputs": [
    {
     "data": {
      "text/plain": [
       "[2, -0.1, [1, 'two'], 'three']"
      ]
     },
     "execution_count": 16,
     "metadata": {},
     "output_type": "execute_result"
    }
   ],
   "source": [
    "list2"
   ]
  },
  {
   "cell_type": "code",
   "execution_count": 17,
   "id": "dd880ddc",
   "metadata": {},
   "outputs": [],
   "source": [
    "list2.remove(-0.1)"
   ]
  },
  {
   "cell_type": "code",
   "execution_count": 18,
   "id": "c332b178",
   "metadata": {},
   "outputs": [
    {
     "data": {
      "text/plain": [
       "[2, [1, 'two'], 'three']"
      ]
     },
     "execution_count": 18,
     "metadata": {},
     "output_type": "execute_result"
    }
   ],
   "source": [
    "list2"
   ]
  },
  {
   "cell_type": "code",
   "execution_count": null,
   "id": "0f5561ef",
   "metadata": {},
   "outputs": [],
   "source": []
  }
 ],
 "metadata": {
  "kernelspec": {
   "display_name": "Python 3.9",
   "language": "python",
   "name": "py39"
  },
  "language_info": {
   "codemirror_mode": {
    "name": "ipython",
    "version": 3
   },
   "file_extension": ".py",
   "mimetype": "text/x-python",
   "name": "python",
   "nbconvert_exporter": "python",
   "pygments_lexer": "ipython3",
   "version": "3.9.1"
  }
 },
 "nbformat": 4,
 "nbformat_minor": 5
}
