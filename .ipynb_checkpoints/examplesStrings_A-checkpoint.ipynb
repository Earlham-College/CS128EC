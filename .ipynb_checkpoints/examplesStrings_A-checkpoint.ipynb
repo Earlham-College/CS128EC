{
 "cells": [
  {
   "cell_type": "code",
   "execution_count": 1,
   "id": "bba7ae89",
   "metadata": {},
   "outputs": [
    {
     "data": {
      "text/plain": [
       "True"
      ]
     },
     "execution_count": 1,
     "metadata": {},
     "output_type": "execute_result"
    }
   ],
   "source": [
    "\"cat\" < \"catch\""
   ]
  },
  {
   "cell_type": "code",
   "execution_count": 3,
   "id": "1607a5d5",
   "metadata": {},
   "outputs": [
    {
     "name": "stdout",
     "output_type": "stream",
     "text": [
      "false\n"
     ]
    }
   ],
   "source": [
    "st1=\"a\"\n",
    "st2=\"\"\n",
    "if st1==st2:\n",
    "    print (\"true\")\n",
    "else:\n",
    "    print (\"false\")"
   ]
  },
  {
   "cell_type": "markdown",
   "id": "7ce9e869",
   "metadata": {},
   "source": [
    "2) Check if a message starts with \"Python\" word"
   ]
  },
  {
   "cell_type": "code",
   "execution_count": 10,
   "id": "e229a588",
   "metadata": {},
   "outputs": [
    {
     "data": {
      "text/plain": [
       "True"
      ]
     },
     "execution_count": 10,
     "metadata": {},
     "output_type": "execute_result"
    }
   ],
   "source": [
    "def check(message):\n",
    "    if message[:6]==\"Python\":\n",
    "        return True\n",
    "    else:\n",
    "        return False\n",
    "check(\"Python is\")"
   ]
  },
  {
   "cell_type": "code",
   "execution_count": 5,
   "id": "b7db88c3",
   "metadata": {},
   "outputs": [
    {
     "data": {
      "text/plain": [
       "True"
      ]
     },
     "execution_count": 5,
     "metadata": {},
     "output_type": "execute_result"
    }
   ],
   "source": [
    "def hasPython(string):\n",
    "    if string.startswith(\"Python\"):\n",
    "        return True\n",
    "    else:\n",
    "        return False\n",
    "    \n",
    "hasPython(\"Python is a programming language\")"
   ]
  },
  {
   "cell_type": "code",
   "execution_count": 7,
   "id": "b80a7da6",
   "metadata": {},
   "outputs": [
    {
     "name": "stdout",
     "output_type": "stream",
     "text": [
      "True\n"
     ]
    }
   ],
   "source": [
    "message = \"Python is a coding language.\"\n",
    "split_text=message.split()\n",
    "if split_text[0]==\"Python\":\n",
    "    print (\"True\")\n",
    "else:\n",
    "    print (\"False\")"
   ]
  },
  {
   "cell_type": "code",
   "execution_count": null,
   "id": "7ce9ea41",
   "metadata": {},
   "outputs": [],
   "source": []
  }
 ],
 "metadata": {
  "kernelspec": {
   "display_name": "Python 3.9",
   "language": "python",
   "name": "py39"
  },
  "language_info": {
   "codemirror_mode": {
    "name": "ipython",
    "version": 3
   },
   "file_extension": ".py",
   "mimetype": "text/x-python",
   "name": "python",
   "nbconvert_exporter": "python",
   "pygments_lexer": "ipython3",
   "version": "3.9.1"
  }
 },
 "nbformat": 4,
 "nbformat_minor": 5
}
