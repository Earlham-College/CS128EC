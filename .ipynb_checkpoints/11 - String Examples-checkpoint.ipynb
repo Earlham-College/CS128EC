{
 "cells": [
  {
   "cell_type": "markdown",
   "metadata": {},
   "source": [
    "## String Examples"
   ]
  },
  {
   "cell_type": "markdown",
   "metadata": {},
   "source": [
    "Write a function called `check_contents`. It should take a single string as a parameter and print to report to the user whether it was a number, all uppercase, all lowercase, or mixed case."
   ]
  },
  {
   "cell_type": "code",
   "execution_count": 6,
   "metadata": {
    "nbgrader": {
     "grade": true,
     "grade_id": "cell-aa83b3ded314ba8f",
     "locked": false,
     "points": 0,
     "schema_version": 3,
     "solution": true,
     "task": false
    }
   },
   "outputs": [
    {
     "name": "stdout",
     "output_type": "stream",
     "text": [
      "It is lowercase\n"
     ]
    }
   ],
   "source": [
    "def check_contents(stringA):\n",
    "    if stringA.isdigit():\n",
    "        print(\"It is number\")\n",
    "    elif stringA.isupper():\n",
    "        print(\"It is uppercase\")\n",
    "    elif stringA.islower():\n",
    "        print(\"It is lowercase\")\n",
    "    else:\n",
    "        print(\"Mixed\")\n",
    "check_contents(\"javier\")"
   ]
  },
  {
   "cell_type": "markdown",
   "metadata": {},
   "source": [
    "Write a function `capitalize_first` that takes a string `s` as a parameter and returns a new string with the same contents as `s` except with the first character capitalized."
   ]
  },
  {
   "cell_type": "code",
   "execution_count": 7,
   "metadata": {
    "nbgrader": {
     "grade": false,
     "grade_id": "cell-7e971816e9e525fc",
     "locked": false,
     "schema_version": 3,
     "solution": true,
     "task": false
    }
   },
   "outputs": [
    {
     "name": "stdout",
     "output_type": "stream",
     "text": [
      "Vassily\n"
     ]
    }
   ],
   "source": [
    "def capitalize_first(s):\n",
    "        print(s.capitalize())\n",
    "        \n",
    "capitalize_first(\"vassily\")"
   ]
  },
  {
   "cell_type": "markdown",
   "metadata": {},
   "source": [
    "Write a function `add_and` that asks for user input in a loop and builds a string from that user input, putting `\" and \"` between the inputs the user gives. The function should stop looping and print out the result if the user enters `\"exit\"`."
   ]
  },
  {
   "cell_type": "code",
   "execution_count": null,
   "metadata": {
    "nbgrader": {
     "grade": false,
     "grade_id": "cell-2ee423fc116a62be",
     "locked": false,
     "schema_version": 3,
     "solution": true,
     "task": false
    },
    "scrolled": true
   },
   "outputs": [],
   "source": []
  },
  {
   "cell_type": "markdown",
   "metadata": {},
   "source": [
    "Write a function `switch_case` which takes a string as a parameter and returns a new string with all uppercase letters turned to lowercase and all lowercase characters turned to uppercase. For example, `switch_case(\"Sofia\")` should return `\"sOFIA\"`."
   ]
  },
  {
   "cell_type": "code",
   "execution_count": null,
   "metadata": {
    "nbgrader": {
     "grade": false,
     "grade_id": "cell-211370e4ff819302",
     "locked": false,
     "schema_version": 3,
     "solution": true,
     "task": false
    }
   },
   "outputs": [],
   "source": []
  },
  {
   "cell_type": "markdown",
   "metadata": {},
   "source": [
    "## Loop Terminology"
   ]
  },
  {
   "cell_type": "markdown",
   "metadata": {},
   "source": [
    "A loop has four parts: initialization, condition, body, and step/increment.\n",
    "\n",
    "In a for loop, some of these are hidden.\n",
    "\n",
    "`for i in range(10):\n",
    "    print(i)`\n",
    "    \n",
    "The initialization is to set `i` to the first value in the range (0), the condition is while our range hasn't run out, the body is the `print` statement, and the step/increment is to change `i` to the next value in the range."
   ]
  },
  {
   "cell_type": "markdown",
   "metadata": {},
   "source": [
    "In a while loop, you have to explicitly write all those parts.\n",
    "\n",
    "`i = 0\n",
    "while i < 10:\n",
    "    print(i)\n",
    "    i+=1`\n",
    "  \n",
    "Initialization: `i = 0`\n",
    "\n",
    "Condition: `i < 10`\n",
    "\n",
    "Body: `print(i)`\n",
    "\n",
    "Step/increment: `i+=1`\n",
    "\n",
    "\n",
    "\n",
    "\n",
    "\n",
    "`done = False\n",
    "while not done:\n",
    "    s = input(\"Done yet? \")\n",
    "    if s == \"done\":\n",
    "        done = True`\n",
    "        \n",
    "Initialization: `done = False`\n",
    "\n",
    "Condition: `not done`\n",
    "\n",
    "Body: `s = input(\"Done yet? \")`\n",
    "\n",
    "Step/increment: `if s == \"done\": done = True`"
   ]
  },
  {
   "cell_type": "markdown",
   "metadata": {},
   "source": [
    "## Tests"
   ]
  },
  {
   "cell_type": "code",
   "execution_count": null,
   "metadata": {
    "nbgrader": {
     "grade": true,
     "grade_id": "cell-9823552d72ef507c",
     "locked": true,
     "points": 1,
     "schema_version": 3,
     "solution": false,
     "task": false
    }
   },
   "outputs": [],
   "source": [
    "#tests for capitalize_first\n",
    "from nose.tools import assert_equal\n",
    "\n",
    "### BEGIN TEST\n",
    "assert_equal(capitalize_first(\"a\"), \"A\")\n",
    "assert_equal(capitalize_first(\"word\"), \"Word\")\n",
    "assert_equal(capitalize_first(\"another test\"), \"Another test\")\n",
    "assert_equal(capitalize_first(\"\"), \"\")"
   ]
  },
  {
   "cell_type": "code",
   "execution_count": null,
   "metadata": {
    "nbgrader": {
     "grade": true,
     "grade_id": "cell-1f12fe0ec160d102",
     "locked": true,
     "points": 1,
     "schema_version": 3,
     "solution": false,
     "task": false
    }
   },
   "outputs": [],
   "source": [
    "#tests for capitalize_first\n",
    "from nose.tools import assert_equal\n",
    "\n",
    "### BEGIN TEST\n",
    "assert_equal(add_and([\"a\", \"b\", \"c\"]), \"a and b and c\")\n",
    "assert_equal(add_and([\"a\"]), \"a\")\n",
    "assert_equal(add_and([]), \"\")"
   ]
  },
  {
   "cell_type": "code",
   "execution_count": null,
   "metadata": {
    "nbgrader": {
     "grade": true,
     "grade_id": "cell-ce8a39f7eac368d2",
     "locked": true,
     "points": 1,
     "schema_version": 3,
     "solution": false,
     "task": false
    }
   },
   "outputs": [],
   "source": [
    "#tests for capitalize_first\n",
    "from nose.tools import assert_equal\n",
    "\n",
    "### BEGIN TEST\n",
    "assert_equal(switch_case(\"a\"), \"A\")\n",
    "assert_equal(switch_case(\"WORD\"), \"word\")\n",
    "assert_equal(switch_case(\"Another Test\"), \"aNOTHER tEST\")\n",
    "assert_equal(switch_case(\"\"), \"\")"
   ]
  }
 ],
 "metadata": {
  "kernelspec": {
   "display_name": "Python 3",
   "language": "python",
   "name": "python3"
  },
  "language_info": {
   "codemirror_mode": {
    "name": "ipython",
    "version": 3
   },
   "file_extension": ".py",
   "mimetype": "text/x-python",
   "name": "python",
   "nbconvert_exporter": "python",
   "pygments_lexer": "ipython3",
   "version": "3.7.4"
  }
 },
 "nbformat": 4,
 "nbformat_minor": 2
}
